{
 "cells": [
  {
   "cell_type": "code",
   "execution_count": 1,
   "metadata": {
    "collapsed": false
   },
   "outputs": [],
   "source": [
    "from __future__ import print_function\n",
    "from ipywidgets import interact, interactive, fixed\n",
    "import ipywidgets as widgets\n",
    "from IPython.display import clear_output\n",
    "from IPython.display import display\n",
    "\n",
    "band = widgets.IntSlider(\n",
    "    value=3,\n",
    "    min=1,\n",
    "    max=8,\n",
    "    step=1,\n",
    "    description='Number of Band',\n",
    ")\n",
    "\n",
    "row = widgets.IntSlider(\n",
    "    value=64,\n",
    "    min=20,\n",
    "    max=128,\n",
    "    step=1,\n",
    "    description='Number of row in a band',\n",
    ")\n",
    "\n",
    "sigma = widgets.FloatSlider(\n",
    "    value=2.0,\n",
    "    min=1.0,\n",
    "    max=10.0,\n",
    "    step=0.5,\n",
    "    description='Value of sigma',\n",
    ")\n",
    "\n",
    "feature_list = widgets.SelectMultiple(\n",
    "    description=\"Feature List\",\n",
    "    value=('duration', 'end_of_fade_in'),\n",
    "    options=['duration', 'end_of_fade_in', 'key', 'loudness', 'mode', 'start_of_fade_out', 'tempo', 'time_signature']\n",
    ")\n",
    "\n",
    "display(band)\n",
    "display(row)\n",
    "display(sigma)\n",
    "display(feature_list)\n",
    "\n",
    "button = widgets.Button(description=\"Execute!\")\n",
    "display(button)\n",
    "\n",
    "def on_button_clicked(b):\n",
    "    clear_output()\n",
    "    print(\"Let me check the parameters...\")\n",
    "    if not feature_list.value:\n",
    "        print(\"Oops!! feature list cannont be empty.Please recheck.\")\n",
    "        print(\"Program Exiting...\")\n",
    "    else:\n",
    "        print(\"Parameters looks to be okay. I will call backend now..\")\n",
    "        back_end_call(band.value, row.value, sigma.value, feature_list.value)\n",
    "\n",
    "button.on_click(on_button_clicked)\n",
    "\n",
    "def back_end_call(num_band, num_row, sigma, feature_list):\n",
    "    print(num_band)\n",
    "    print(num_row)\n",
    "    print(sigma)\n",
    "    print(feature_list)"
   ]
  },
  {
   "cell_type": "code",
   "execution_count": 4,
   "metadata": {
    "collapsed": true
   },
   "outputs": [],
   "source": []
  }
 ],
 "metadata": {
  "anaconda-cloud": {},
  "kernelspec": {
   "display_name": "Python [conda root]",
   "language": "python",
   "name": "conda-root-py"
  },
  "language_info": {
   "codemirror_mode": {
    "name": "ipython",
    "version": 3
   },
   "file_extension": ".py",
   "mimetype": "text/x-python",
   "name": "python",
   "nbconvert_exporter": "python",
   "pygments_lexer": "ipython3",
   "version": "3.5.2"
  },
  "widgets": {
   "state": {
    "060a75ebd3f54ee78bf2e9ee6ed1e03d": {
     "views": [
      {
       "cell_index": 0
      }
     ]
    },
    "2ad4068b48c044ec9b1a7b83deed81de": {
     "views": [
      {
       "cell_index": 0
      }
     ]
    },
    "56273ce1152f4970b3568d7d9a865dde": {
     "views": [
      {
       "cell_index": 0
      }
     ]
    },
    "84ec6eb6ca9e491593cec3f6c00d569f": {
     "views": [
      {
       "cell_index": 0
      }
     ]
    },
    "cae42abdcc244670b39ef4393174d426": {
     "views": [
      {
       "cell_index": 0
      }
     ]
    }
   },
   "version": "1.2.0"
  }
 },
 "nbformat": 4,
 "nbformat_minor": 1
}
