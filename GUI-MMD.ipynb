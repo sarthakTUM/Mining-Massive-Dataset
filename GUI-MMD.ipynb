{
 "cells": [
  {
   "cell_type": "code",
   "execution_count": 8,
   "metadata": {
    "collapsed": false
   },
   "outputs": [
    {
     "name": "stdout",
     "output_type": "stream",
     "text": [
      "Checking parameters...\n",
      "Parameter check complete. Executing Duplicate Detection\n",
      "You are using cosine angle  2.0\n",
      "Number of bands:  3\n",
      "Number of rows per band:  64\n",
      "Sigma:  2.0\n",
      "Selected features:  ('duration', 'end_of_fade_in', 'key', 'loudness', 'mode', 'start_of_fade_out', 'tempo', 'time_signature')\n",
      "Distance:  0.0006091729809042379\n",
      "Extracting the tarfile...\n",
      "Extracting the summary...\n",
      "Extracting the features...\n",
      "Real time elapsed for extract fields:  41.07729411125183\n",
      "number of Random Vectors :  192\n",
      "Time taken to generate Random Vectors:  0.00037932395935058594\n",
      "Candidate pairs on  1  band:  2855\n",
      "Candidate pairs on  2  band:  3383\n",
      "Candidate pairs on  3  band:  3256\n",
      "Found:  19  duplicates\n",
      "Time taken to find duplicates:  1.376516580581665\n",
      "Time taken to find duplicates with generation of random vectors and preprocessing of the data:  6.3493757247924805\n",
      "Exiting the program\n"
     ]
    }
   ],
   "source": [
    "from __future__ import print_function\n",
    "from ipywidgets import interact, interactive, fixed\n",
    "import ipywidgets as widgets\n",
    "from IPython.display import clear_output\n",
    "from IPython.display import display\n",
    "import tarfile\n",
    "import pandas as pd\n",
    "import numpy as np\n",
    "from sklearn.preprocessing import normalize\n",
    "from sklearn.preprocessing import scale\n",
    "import time\n",
    "import random\n",
    "import math\n",
    "import itertools as it\n",
    "\n",
    "band = widgets.IntSlider(\n",
    "    value=3,\n",
    "    min=1,\n",
    "    max=8,\n",
    "    step=1,\n",
    "    description='Number of Band',\n",
    ")\n",
    "\n",
    "row = widgets.IntSlider(\n",
    "    value=64,\n",
    "    min=20,\n",
    "    max=128,\n",
    "    step=1,\n",
    "    description='Number of row in a band',\n",
    ")\n",
    "\n",
    "cosine_sel=widgets.RadioButtons(\n",
    "    value=('cosine-angle'),\n",
    "    options=['cosine-angle','cosine-distance'],\n",
    "    description='Value selection',\n",
    "    disabled=False\n",
    ")\n",
    "\n",
    "sigma_angle = widgets.FloatSlider(\n",
    "    value=2.0,\n",
    "    min=1.0,\n",
    "    max=10.0,\n",
    "    step=0.5,\n",
    "    description='Value of cos-angle',\n",
    ")\n",
    "\n",
    "sigma_distance=widgets.BoundedFloatText(\n",
    "    value=0.0006092,\n",
    "    min=0.0000001,\n",
    "    max=0.0009999,\n",
    "    description='Value of cos-dist',\n",
    "    disabled=False,\n",
    "    color='black'\n",
    ")\n",
    "\n",
    "\n",
    "feature_list = widgets.SelectMultiple(\n",
    "    description=\"Feature List\",\n",
    "    value=('duration', 'end_of_fade_in', 'key', 'loudness', 'mode', 'start_of_fade_out', 'tempo', 'time_signature'),\n",
    "    options=['analysis_sample_rate', 'audio_md5', 'danceability', 'duration', 'end_of_fade_in', 'energy', 'idx_bars_confidence', 'idx_bars_start', 'idx_beats_confidence', 'idx_beats_start', 'idx_sections_confidence', 'idx_sections_start', 'idx_segments_confidence', 'idx_segments_loudness_max', 'idx_segments_loudness_max_time', 'idx_segments_loudness_start', 'idx_segments_pitches', 'idx_segments_start', 'idx_segments_timbre', 'idx_tatums_confidence', 'idx_tatums_start', 'key',  'key_confidence', 'loudness', 'mode', 'mode_confidence', 'start_of_fade_out', 'tempo', 'time_signature', 'time_signature_confidence', 'track_id']\n",
    ")\n",
    "\n",
    "display(band)\n",
    "display(row)\n",
    "display(cosine_sel)\n",
    "display(sigma_angle)\n",
    "display(sigma_distance)\n",
    "display(feature_list)\n",
    "\n",
    "button = widgets.Button(description=\"Execute!\")\n",
    "display(button)\n",
    "\n",
    "def on_button_clicked(b):\n",
    "    vs_flag=0 #value selection flag : cosine angle or cosine distance\n",
    "    clear_output()\n",
    "    print(\"Checking parameters...\")\n",
    "    if not feature_list.value:\n",
    "        print(\"Feature list cannont be empty. Please recheck.\")\n",
    "        print(\"Program Exiting...\")\n",
    "    else:\n",
    "        print(\"Parameter check complete. Executing Duplicate Detection\")\n",
    "        if (cosine_sel.value=='cosine-angle'):\n",
    "            vs_flag=1\n",
    "            print(\"You are using cosine angle \", sigma_angle.value)\n",
    "            main_func_backend(band.value, row.value, sigma_angle.value, vs_flag, feature_list.value)\n",
    "        else:\n",
    "            vs_flag=0\n",
    "            print(\"You are using cosine distance \", sigma_angle.distance)\n",
    "            main_func_backend(band.value, row.value, sigma_distance.value, vs_flag, feature_list.value)\n",
    "\n",
    "button.on_click(on_button_clicked)\n",
    "# ****************************************************************************************** #\n",
    "path_to_million_song_dataset = \"/media/vir/B8B67275B672344A/TUM/mmd/project/p1/group_17/millionsongsubset_full.tar.gz\"\n",
    "\n",
    "hash_vector = np.array([2**i for i in range(64)])\n",
    "\n",
    "duplicate_songs = dict()\n",
    "\n",
    "#\n",
    "#   Returns a matrix which columns corresponds to a specific feature:\n",
    "#   Each row corresponds to a song\n",
    "#   Each field a for the moment floats\n",
    "#\n",
    "#   features:A list containing features\n",
    "#   dataframe: frame containing all feature data\n",
    "#   n: number of songs\n",
    "#\n",
    "#   returns: Numpy.Matrix(col=feature,row=songs)\n",
    "#\n",
    "def extract_fields(features, dataframe, n):\n",
    "    number_of_features = len(features)\n",
    "    feature_data_matrix = np.empty((n, number_of_features))\n",
    "    for i in range(n):\n",
    "        col_index = 0\n",
    "        for feature in features:\n",
    "            feature_data_matrix[i][col_index] = dataframe.iloc[i][feature]\n",
    "            col_index += 1\n",
    "\n",
    "    feature_data_matrix = scale(feature_data_matrix)\n",
    "    return feature_data_matrix\n",
    "#\n",
    "#   Generates a \"random\" matrix\n",
    "#\n",
    "def generate_random_v(rows, cols):\n",
    "    v = np.random.choice([-1,1], (rows, cols))\n",
    "    return v\n",
    "    \n",
    "def banding(signature_matrix, num_bands, rows_in_band, num_RV, sigma):\n",
    "    band_start_index = 0\n",
    "    band_end_index = rows_in_band - 1 \n",
    "    index = 0\n",
    "   \n",
    "    while(band_end_index <= num_RV):\n",
    "        \n",
    "        #print(\"starting index: \",  band_start_index, \" and band end index: \", band_end_index)\n",
    "        #print(\"sigma \", sigma)\n",
    "        index += 1\n",
    "        #print(\"Index: \", index)\n",
    "        band = signature_matrix[band_start_index:band_end_index+1]\n",
    "        hashing(band, sigma, index)\n",
    "        band_start_index = band_end_index + 1\n",
    "        band_end_index += rows_in_band\n",
    "\n",
    "    duplicates = 0\n",
    "    for song,similiarity_list in duplicate_songs.items():\n",
    "        if len(similiarity_list) > 0:\n",
    "            duplicates += (len(similiarity_list))\n",
    "            #print(\"Duplicate pairs: \", song, \" and \", similiarity_list)\n",
    "\n",
    "    print(\"Found: \", duplicates, \" duplicates\")\n",
    "\n",
    "def hashing(band, sigma, index):\n",
    "    candidate_pairs = 0\n",
    " \n",
    "    hash_buckets = dict()\n",
    "    \n",
    "    for j in range(band.shape[1]):\n",
    "        local_song_signature = band[:, j]\n",
    "        hash_value = getHashValue(local_song_signature)\n",
    "        if hash_value not in hash_buckets: \n",
    "            hash_buckets[hash_value] = [j]\n",
    "        else:\n",
    "            hash_buckets[hash_value].append(j) \n",
    "    \n",
    "    for bucket in hash_buckets.items():\n",
    "        if len(bucket[1]) > 1:\n",
    "            candidate_pairs += len(bucket[1])\n",
    "        \n",
    "    find_exact_cosine_distance(hash_buckets, sigma)\n",
    "\n",
    "    print(\"Candidate pairs on \", index  , \" band: \", candidate_pairs)\n",
    "\n",
    "def find_exact_cosine_distance(hash_buckets, sigma):\n",
    "    global feature_data_matrix\n",
    "\n",
    "    for bucket in hash_buckets.items():\n",
    "        for (i,j) in it.combinations(bucket[1], 2):\n",
    "\n",
    "            if i not in duplicate_songs:\n",
    "                duplicate_songs[i] = set([])\n",
    "             \n",
    "            if j not in duplicate_songs[i]:\n",
    "                cosine_value = cosine_similarity(feature_data_matrix[i], feature_data_matrix[j]) \n",
    "                if cosine_value < sigma:\n",
    "                    duplicate_songs[i].update([j])\n",
    "\n",
    "def cosine_similarity(song1, song2):\n",
    "    mag1 = np.linalg.norm(song1)\n",
    "    mag2 = np.linalg.norm(song2)\n",
    "\n",
    "    cos_angle = np.dot(song1, song2)/(mag1*mag2)\n",
    "\n",
    "    return 1 - cos_angle\n",
    "\n",
    "def getHashValue(local_song_signature):\n",
    "    hashValue = 0\n",
    "    \n",
    "    #   print(\"local song signature shape after transpose: \", local_song_signature.shape)\n",
    "    hashValue = np.dot(local_song_signature, hash_vector)\n",
    "    return hashValue\n",
    "        \n",
    "def find_duplicates(feature_data_matrix, r, b, sigma):\n",
    "    dimensions = feature_data_matrix.shape\n",
    "\n",
    "    time1 = time.time()\n",
    "    num_of_RV = r*b\n",
    "    print(\"number of Random Vectors : \", num_of_RV)\n",
    "    v = generate_random_v(num_of_RV, dimensions[1])\n",
    "    time2 = time.time()\n",
    "    print(\"Time taken to generate Random Vectors: \", time2-time1)\n",
    " \n",
    "    #print(\"Rank of matrix: \", np.linalg.matrix_rank(v))\n",
    "    \n",
    "    v = v.transpose()\n",
    "    \n",
    "    signature_matrix = np.dot(feature_data_matrix, v)\n",
    "    \n",
    "    for i in range(signature_matrix.shape[0]):\n",
    "        for j in range(signature_matrix.shape[1]):\n",
    "            if signature_matrix[i][j] > 0:\n",
    "                signature_matrix[i][j] = 1\n",
    "            else:\n",
    "                signature_matrix[i][j] = 0\n",
    "    \n",
    "    time1 = time.time()\n",
    "    banding(signature_matrix.transpose(), b, r, num_of_RV, sigma)\n",
    "    time2 = time.time()\n",
    "    print(\"Time taken to find duplicates: \", time2 - time1)\n",
    "    \n",
    "    return 0\n",
    "\n",
    "def main_func_backend(num_band, num_row, sigma, vs_flag, feature_list):\n",
    "    global feature_data_matrix\n",
    "    print(\"Number of bands: \", num_band)\n",
    "    print(\"Number of rows per band: \", num_row)\n",
    "    print(\"Sigma: \", sigma)\n",
    "    print(\"Selected features: \", feature_list)\n",
    "    distance =  1 - math.cos(math.radians(sigma))\n",
    "    print(\"Distance: \", distance)\n",
    "    \n",
    "    print(\"Extracting the tarfile...\")\n",
    "    t = tarfile.open(path_to_million_song_dataset, \"r:gz\")\n",
    "    members = t.getmembers()\n",
    "\n",
    "    print(\"Extracting the summary...\")\n",
    "    t.extract(members[5].name)\n",
    "    summary = pd.HDFStore(members[5].name)\n",
    "\n",
    "    print(\"Extracting the features...\")\n",
    "    time1 = time.time()\n",
    "    feature_data_matrix = extract_fields(feature_list, summary['analysis/songs'], 9999)\n",
    "    \n",
    "\n",
    "    time2 = time.time()\n",
    "    print(\"Real time elapsed for extract fields: \", time2-time1)\n",
    "\n",
    "    time1 = time.time()\n",
    "\n",
    "    find_duplicates(feature_data_matrix, num_row, num_band, distance)\n",
    "    time2 = time.time()\n",
    "\n",
    "    print(\"Time taken to find duplicates with generation of random vectors and preprocessing of the data: \", time2-time1)\n",
    "    print(\"Exiting the program\")\n",
    "    t.close()"
   ]
  },
  {
   "cell_type": "code",
   "execution_count": 4,
   "metadata": {
    "collapsed": true
   },
   "outputs": [],
   "source": []
  }
 ],
 "metadata": {
  "anaconda-cloud": {},
  "kernelspec": {
   "display_name": "Python [conda root]",
   "language": "python",
   "name": "conda-root-py"
  },
  "language_info": {
   "codemirror_mode": {
    "name": "ipython",
    "version": 3
   },
   "file_extension": ".py",
   "mimetype": "text/x-python",
   "name": "python",
   "nbconvert_exporter": "python",
   "pygments_lexer": "ipython3",
   "version": "3.5.2"
  },
  "widgets": {
   "state": {
    "09142ad39d4547f09154e5e0ee0b44e0": {
     "views": [
      {
       "cell_index": 0
      }
     ]
    },
    "0ec0541d9d01468e8f1895acc5fb0385": {
     "views": [
      {
       "cell_index": 0
      }
     ]
    },
    "20a134757ac044f38649603f70e669ee": {
     "views": [
      {
       "cell_index": 0
      }
     ]
    },
    "22b533c432da4ccdaca97528f53d8307": {
     "views": [
      {
       "cell_index": 0
      }
     ]
    },
    "335d8feb9c3648fa8c292224b69d7e54": {
     "views": [
      {
       "cell_index": 0
      }
     ]
    },
    "62e9e13853dc4db0b71a74167e810e36": {
     "views": [
      {
       "cell_index": 0
      }
     ]
    },
    "6dcad0d128fc408c8b3d27c0af8aac67": {
     "views": [
      {
       "cell_index": 0
      }
     ]
    },
    "6ee0eda4e0384ae9bada06bcbaeead3e": {
     "views": [
      {
       "cell_index": 0
      }
     ]
    },
    "76757e371abb4716bbc91b74f7e36b27": {
     "views": [
      {
       "cell_index": 0
      }
     ]
    },
    "874920b56dfe49109425e54b1deeeab0": {
     "views": [
      {
       "cell_index": 0
      }
     ]
    },
    "8f065bf2161b47178b3759dee69d0e24": {
     "views": [
      {
       "cell_index": 0
      }
     ]
    },
    "9cb7a9041f3549e8b6b6f30c47ce2100": {
     "views": [
      {
       "cell_index": 0
      }
     ]
    },
    "9de4e2767ff64c72b0200726bbe5ecbb": {
     "views": [
      {
       "cell_index": 0
      }
     ]
    },
    "a08369fe11b94afbbd66a944f64c8873": {
     "views": [
      {
       "cell_index": 0
      }
     ]
    },
    "a2123485b74e40a88571a21dd42db746": {
     "views": [
      {
       "cell_index": 0
      }
     ]
    },
    "a265a1675a3a406eb242f14d4b50cc26": {
     "views": [
      {
       "cell_index": 0
      }
     ]
    },
    "aa4637a8d37e40d9bacd454ff925c7a4": {
     "views": [
      {
       "cell_index": 0
      }
     ]
    },
    "bb972e71d0f24c3f859582c4f0339a0f": {
     "views": [
      {
       "cell_index": 0
      }
     ]
    },
    "d56b5cfd7a274ceca10eda09bbb044e5": {
     "views": [
      {
       "cell_index": 0
      }
     ]
    },
    "d67f234b944342b58cef323d97de362a": {
     "views": [
      {
       "cell_index": 0
      }
     ]
    },
    "d7a34ccaebdf40a1a613f3a0343ffa8b": {
     "views": [
      {
       "cell_index": 0
      }
     ]
    },
    "e75e2947911144a4b491fba307ecca3b": {
     "views": [
      {
       "cell_index": 0
      }
     ]
    },
    "f054ce672d3f4ea480d4d9645217bb38": {
     "views": [
      {
       "cell_index": 0
      }
     ]
    },
    "f4ecf4b3f7ca47eb9a8515bb9968c5ca": {
     "views": [
      {
       "cell_index": 0
      }
     ]
    }
   },
   "version": "1.2.0"
  }
 },
 "nbformat": 4,
 "nbformat_minor": 1
}
