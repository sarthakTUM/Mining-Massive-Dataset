{
 "cells": [
  {
   "cell_type": "code",
   "execution_count": 1,
   "metadata": {
    "collapsed": false
   },
   "outputs": [],
   "source": [
    "from __future__ import print_function\n",
    "from ipywidgets import interact, interactive, fixed\n",
    "import ipywidgets as widgets\n",
    "from IPython.display import clear_output\n",
    "from IPython.display import display\n",
    "\n",
    "band = widgets.IntSlider(\n",
    "    value=3,\n",
    "    min=1,\n",
    "    max=8,\n",
    "    step=1,\n",
    "    description='Number of Band',\n",
    ")\n",
    "\n",
    "row = widgets.IntSlider(\n",
    "    value=64,\n",
    "    min=20,\n",
    "    max=128,\n",
    "    step=1,\n",
    "    description='Number of row in a band',\n",
    ")\n",
    "\n",
    "sigma = widgets.FloatSlider(\n",
    "    value=2.0,\n",
    "    min=1.0,\n",
    "    max=10.0,\n",
    "    step=0.5,\n",
    "    description='Value of sigma',\n",
    ")\n",
    "\n",
    "feature_list = widgets.SelectMultiple(\n",
    "    description=\"Feature List\",\n",
    "    value=('duration', 'end_of_fade_in'),\n",
    "    options=['duration', 'end_of_fade_in', 'key', 'loudness', 'mode', 'start_of_fade_out', 'tempo', 'time_signature']\n",
    ")\n",
    "\n",
    "display(feature_list)\n",
    "display(band)\n",
    "display(row)\n",
    "display(sigma)"
   ]
  },
  {
   "cell_type": "code",
   "execution_count": 2,
   "metadata": {
    "collapsed": false
   },
   "outputs": [
    {
     "name": "stdout",
     "output_type": "stream",
     "text": [
      "Let me check the parameters...\n",
      "Parameters looks to be okay. I will call backend now..\n",
      "3\n",
      "64\n",
      "2.0\n",
      "('duration', 'end_of_fade_in')\n"
     ]
    }
   ],
   "source": [
    "button = widgets.Button(description=\"Execute!\")\n",
    "display(button)\n",
    "\n",
    "def on_button_clicked(b):\n",
    "    clear_output()\n",
    "    print(\"Let me check the parameters...\")\n",
    "    if not feature_list.value:\n",
    "        print(\"Oops!! feature list cannont be empty.Please recheck.\")\n",
    "        print(\"Program Exiting...\")\n",
    "    else:\n",
    "        print(\"Parameters looks to be okay. I will call backend now..\")\n",
    "        back_end_call(band.value, row.value, sigma.value, feature_list.value)\n",
    "\n",
    "def back_end_call(num_band, num_row, sigma, feature_list):\n",
    "    print(num_band)\n",
    "    print(num_row)\n",
    "    print(sigma)\n",
    "    print(feature_list)\n",
    "\n",
    "button.on_click(on_button_clicked)"
   ]
  }
 ],
 "metadata": {
  "anaconda-cloud": {},
  "kernelspec": {
   "display_name": "Python [conda root]",
   "language": "python",
   "name": "conda-root-py"
  },
  "language_info": {
   "codemirror_mode": {
    "name": "ipython",
    "version": 3
   },
   "file_extension": ".py",
   "mimetype": "text/x-python",
   "name": "python",
   "nbconvert_exporter": "python",
   "pygments_lexer": "ipython3",
   "version": "3.5.2"
  },
  "widgets": {
   "state": {
    "1078f88558d749809adc84e47d54b1de": {
     "views": [
      {
       "cell_index": 0
      }
     ]
    },
    "3dd914bf4aa44bbcb52f834bc3a66ab7": {
     "views": [
      {
       "cell_index": 0
      }
     ]
    },
    "40ec2eabbd914a27852ae6e8d59986be": {
     "views": [
      {
       "cell_index": 0
      }
     ]
    },
    "5f0aa9a7434e4970a9edea4552b5c85e": {
     "views": [
      {
       "cell_index": 0
      }
     ]
    },
    "9b06751aad394829aaacbd42d94db3a7": {
     "views": [
      {
       "cell_index": 1
      }
     ]
    }
   },
   "version": "1.2.0"
  }
 },
 "nbformat": 4,
 "nbformat_minor": 1
}
